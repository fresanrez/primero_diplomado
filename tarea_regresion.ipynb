{
 "cells": [
  {
   "cell_type": "markdown",
   "metadata": {},
   "source": [
    "# UNIVERSIDAD    NACIONAL "
   ]
  },
  {
   "cell_type": "markdown",
   "metadata": {},
   "source": [
    " ## DIPLOMADO DE INTELIGFENCIA ARTIFICIAL Y CONOCIMIENTO PFOFUNDO "
   ]
  },
  {
   "cell_type": "markdown",
   "metadata": {},
   "source": [
    "## Ensayo REGRESIONES LINEALES"
   ]
  },
  {
   "cell_type": "markdown",
   "metadata": {},
   "source": [
    "## Ing. FREDY ANTONIO SANCHEZ RAMIREZ"
   ]
  },
  {
   "cell_type": "markdown",
   "metadata": {},
   "source": [
    "### Marzo 2021"
   ]
  },
  {
   "cell_type": "markdown",
   "metadata": {},
   "source": [
    "### Indice"
   ]
  },
  {
   "cell_type": "markdown",
   "metadata": {},
   "source": [
    "+ Introduccion\n",
    "+ Desarrollo\n",
    "+ Código\n",
    "+ Gráficas\n",
    "+ Conclusiones"
   ]
  },
  {
   "cell_type": "markdown",
   "metadata": {},
   "source": [
    "### INTRODUCCION"
   ]
  },
  {
   "cell_type": "markdown",
   "metadata": {},
   "source": [
    "El presente ensayo es elaborado como ejercicio del Diplomado de la Universidad Nacional  **INTELIGENCIA ARTIFICIAL Y CONOCIMIENTO PROFUNDO** .El objetivo del ensayo es el de prácticar por medio de un escrito sobre REGRESIONES LINEALES, los conceptos sobre esta técnica, adicionalmente usanr Jupyter Lab para la creación del documento usando el editor MARKDOWN, incorporando en el ensayo imágenes, código en Phyton usando Numpy (para los calculos) y Matplotlib (para los gráficos);  y posteriormente colgarlo en mi Github (fresanrez/Diplomado) haciendole la renderización en con nbviwe y html"
   ]
  },
  {
   "cell_type": "markdown",
   "metadata": {},
   "source": [
    "### BREVE HISTORIA"
   ]
  },
  {
   "cell_type": "markdown",
   "metadata": {},
   "source": [
    "Hay que remontarnos hacia principios del siglo XIX, apróximadamente en 1805 cuando el matemático Fránces **Adrien-Marie Legendre** , quién hizo importante aportes a la estaditica, teoría de números, algebra abstracta y muchos más.   "
   ]
  },
  {
   "cell_type": "markdown",
   "metadata": {},
   "source": [
    "![caricatura de Adrien](https://upload.wikimedia.org/wikipedia/commons/0/03/Legendre.jpg)"
   ]
  },
  {
   "cell_type": "markdown",
   "metadata": {},
   "source": [
    "**Legendre** introdujo la primera forma de regresión líneal documentada en el *método de mínimos cuadrados*, siendo profundizado por **Gauss**"
   ]
  },
  {
   "cell_type": "markdown",
   "metadata": {},
   "source": [
    "!(Descargas/regresionlin.jpg)"
   ]
  },
  {
   "cell_type": "markdown",
   "metadata": {},
   "source": [
    "### PLANTEAMIENTO DEL ALGORITMO\n"
   ]
  },
  {
   "cell_type": "markdown",
   "metadata": {},
   "source": [
    "En el modelo lineal se relaciona la variable dependiente $\\ Y$ con $\\ m$  variable regresoras $\\ X_j$ con $\\ j$ = $\\ 1,2,m$ o cualquier transformación de estas que generen un hiperplano de parámetros $ \\beta_i $ desconocidos $\\ Y = \\beta_0 + \\beta_1X + \\beta_2 \\ + ...+ \\beta_m + \\epsilon $ = $\\beta_0 = \\sum_{j=1}^{m} \\beta_j X_j + \\epsilon  $   donde $\\epsilon $ es una variable aleatoria que recoge todos aquellos factores de la realidad no controlables y asociados con el azar , en el caso más sencillo queda reducido a una recta $\\ Y = \\beta_0 + \\beta_1 \\ X_1 + \\epsilon$"
   ]
  },
  {
   "cell_type": "markdown",
   "metadata": {},
   "source": [
    "### EJEMPLO DE REGRESION LINEAL USANDO PYTHON"
   ]
  },
  {
   "cell_type": "markdown",
   "metadata": {},
   "source": [
    "#### FORMATO DE LOS DATOS\n",
    "Para que nuestra técnica de regresión lineal pueda entender de nuestros datos, tenemos que proporcionar los resultados $\\ Y$  en forma de un vector de $\\ m$ elementos, y los datos de $\\ X$ en forma de matrix. El convenio para la matrix es el siguiente : \n",
    "+ M filas cada fila es un dato : por ejemplo un inmueble si queremos predcir su venta \n",
    "+ N columnas : cadaa columna es un atributo relevante por ejemplo cuántas habitaciones tiene cuantos metros cuadrados , etc "
   ]
  },
  {
   "cell_type": "code",
   "execution_count": 5,
   "metadata": {},
   "outputs": [],
   "source": [
    "import matplotlib.pyplot as plt # Se importa la libreria MATPLOTLIB para manejo de gráficas\n",
    "import numpy as np # Se importa la librería NUMPY para maejo de array y regresiones \n",
    "\n",
    "#se inicializan los vectores de entrenamiento y prueba tanto en x como en y\n",
    "\n",
    "x_train = np.array([1,2,3,4,5,6,7,8,9,10,11,12,13,14,15,16,17,18,19,20,21,22,23,24,25,26,27,28,29,30,31,32])\n",
    "x_val =  np.array([33,34,35,36,37,38,39,40])\n",
    "\n",
    "y_train =  np.array([0.5,1,6,4.5,5.5,7.5,9,10,9.2,15,11,12.8,13.4,28,17.4,15.8,17.6,19,20,22,21.4,21.1,23.7,20,28.3,25.4,26,27,30,30.5,31.9,32])\n",
    "y_val =  np.array([32.2,34.5,33.8,35.2,37.5,38.4,30.4,42.5])"
   ]
  },
  {
   "cell_type": "code",
   "execution_count": 8,
   "metadata": {},
   "outputs": [],
   "source": [
    "# se realiza la regresión lineal pensando en la forma lineal y= ax+b\n",
    "# se usa el metodo polyfit con deg = 1(lineal)\n",
    "a, b = np.polyfit(x_train, y_train, deg=1)\n",
    "y_est = a * x_train + b\n",
    "# calculo del error cuadratico \n",
    "y_err = x_train.std() * np.sqrt(1/len(x_train) +\n",
    "                          (x_train - x_train.mean())**2 / np.sum((x_train - x_train.mean())**2))"
   ]
  },
  {
   "cell_type": "code",
   "execution_count": 14,
   "metadata": {},
   "outputs": [
    {
     "data": {
      "image/png": "[encoded data removed]",
      "text/plain": [
       "<Figure size 432x288 with 1 Axes>"
      ]
     },
     "metadata": {
      "needs_background": "light"
     },
     "output_type": "display_data"
    }
   ],
   "source": [
    "# graficacion del resultado\n",
    "fig, ax = plt.subplots()\n",
    "ax.plot(x_train, y_est, '-')\n",
    "ax.fill_between(x_train, y_est - y_err, y_est + y_err, alpha=0.2)\n",
    "ax.plot(x_train, y_train, 'o', color='tab:brown')\n",
    "ax.plot(x_val, y_val, 'o', color='tab:green')\n",
    "plt.show()"
   ]
  },
  {
   "cell_type": "code",
   "execution_count": null,
   "metadata": {},
   "outputs": [],
   "source": [
    "# ahora se hace el mismo procedimiento pero con deg=2 es decir de la forma Y = ax2+bx+c\n"
   ]
  },
  {
   "cell_type": "code",
   "execution_count": 15,
   "metadata": {},
   "outputs": [],
   "source": [
    "a, b, c = np.polyfit(x_train, y_train, deg=2)\n",
    "y_est = a * x_train**2 + b *x_train + c\n",
    "y_err = x_train.std() * np.sqrt(1/len(x_train) +\n",
    "                          (x_train - x_train.mean())**2 / np.sum((x_train - x_train.mean())**2))"
   ]
  },
  {
   "cell_type": "code",
   "execution_count": 16,
   "metadata": {},
   "outputs": [
    {
     "data": {
      "image/png": "[encoded data removed]",
      "text/plain": [
       "<Figure size 432x288 with 1 Axes>"
      ]
     },
     "metadata": {
      "needs_background": "light"
     },
     "output_type": "display_data"
    }
   ],
   "source": [
    "# graficación del resultado\n",
    "fig, ax = plt.subplots()\n",
    "ax.plot(x_train, y_est, '-')\n",
    "ax.fill_between(x_train, y_est - y_err, y_est + y_err, alpha=0.2)\n",
    "ax.plot(x_train, y_train, 'o', color='tab:brown')\n",
    "ax.plot(x_val, y_val, 'o', color='tab:green')\n",
    "#plt.savefig('predictive.png')\n",
    "plt.show()"
   ]
  },
  {
   "cell_type": "markdown",
   "metadata": {},
   "source": [
    "### CONCLUSION"
   ]
  },
  {
   "cell_type": "markdown",
   "metadata": {},
   "source": [
    "+ La regresión lineal es la máquina de aprendizaje más conocida, esta dentro de las técnicas de **APRENDIZAJE SUPERVISADO**\n",
    "+ Solo busca conocer la relación entre dos variables\n",
    "+ Es poco confiable"
   ]
  }
 ],
 "metadata": {
  "kernelspec": {
   "display_name": "Python 3",
   "language": "python",
   "name": "python3"
  },
  "language_info": {
   "codemirror_mode": {
    "name": "ipython",
    "version": 3
   },
   "file_extension": ".py",
   "mimetype": "text/x-python",
   "name": "python",
   "nbconvert_exporter": "python",
   "pygments_lexer": "ipython3",
   "version": "3.8.5"
  }
 },
 "nbformat": 4,
 "nbformat_minor": 4
}
