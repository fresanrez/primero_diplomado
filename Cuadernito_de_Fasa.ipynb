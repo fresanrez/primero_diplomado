{
  "nbformat": 4,
  "nbformat_minor": 0,
  "metadata": {
    "colab": {
      "name": "Cuadernito de Fasa.ipynb",
      "provenance": []
    },
    "kernelspec": {
      "name": "python3",
      "display_name": "Python 3"
    }
  },
  "cells": [
    {
      "cell_type": "code",
      "metadata": {
        "id": "cSLepY98OLAm"
      },
      "source": [
        ""
      ],
      "execution_count": null,
      "outputs": []
    },
    {
      "cell_type": "markdown",
      "metadata": {
        "id": "jk22a2JoTCop"
      },
      "source": [
        "# MI PRIMER ENSAYO EN GOOGLE COLAB\r\n",
        "## Teoria de la Relatividad"
      ]
    },
    {
      "cell_type": "markdown",
      "metadata": {
        "id": "jlNGOOv7ZCqV"
      },
      "source": [
        "[Referencia en Wikipedia](https://es.wikipedia.org/wiki/Teor%C3%ADa_de_la_relatividad)"
      ]
    },
    {
      "cell_type": "markdown",
      "metadata": {
        "id": "iivawPURaEMa"
      },
      "source": [
        "![ALBERT EINSTEN](data:image/jpeg;base64,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)"
      ]
    },
    {
      "cell_type": "markdown",
      "metadata": {
        "id": "alzH0RYtb9s8"
      },
      "source": [
        ">> INICIO DEL ENSAYO"
      ]
    },
    {
      "cell_type": "markdown",
      "metadata": {
        "id": "KDzSU-KKcSaT"
      },
      "source": [
        "**INDICE**\r\n",
        "- Capitulo uno\r\n",
        "- Cápitulo dos\r\n",
        "  - Cápitulo dos uno\r\n",
        "  - Cápitulo dos dos\r\n",
        "-Cápitulo **Tres**"
      ]
    },
    {
      "cell_type": "markdown",
      "metadata": {
        "id": "P0PupR93dtw9"
      },
      "source": [
        "# La primeras fórmulas  "
      ]
    },
    {
      "cell_type": "markdown",
      "metadata": {
        "id": "iuZ-XPqv7sr4"
      },
      "source": [
        "$[ x^2 + y^2 = z^2 ]$"
      ]
    },
    {
      "cell_type": "markdown",
      "metadata": {
        "id": "CRKm2Kkx9N-k"
      },
      "source": [
        "$[\\sqrt{x^2+1}\\]$ "
      ]
    },
    {
      "cell_type": "code",
      "metadata": {
        "colab": {
          "base_uri": "https://localhost:8080/"
        },
        "id": "2j2c-85u-r9d",
        "outputId": "229a967c-6abb-40e9-ea65-0f288fdcc079"
      },
      "source": [
        "print(\"estamos en el incio de Python\")"
      ],
      "execution_count": 2,
      "outputs": [
        {
          "output_type": "stream",
          "text": [
            "estamos en el incio de Python\n"
          ],
          "name": "stdout"
        }
      ]
    }
  ]
}